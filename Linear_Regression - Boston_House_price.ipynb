{
 "cells": [
  {
   "cell_type": "markdown",
   "id": "95995187",
   "metadata": {},
   "source": [
    "# Single Linear Regression"
   ]
  },
  {
   "cell_type": "code",
   "execution_count": 1,
   "id": "125322fa",
   "metadata": {},
   "outputs": [],
   "source": [
    "import pandas as pd\n",
    "import numpy as np\n",
    "import matplotlib.pyplot as plt\n",
    "import seaborn as sns"
   ]
  },
  {
   "cell_type": "code",
   "execution_count": 2,
   "id": "6aa918d2",
   "metadata": {},
   "outputs": [
    {
     "data": {
      "text/html": [
       "<div>\n",
       "<style scoped>\n",
       "    .dataframe tbody tr th:only-of-type {\n",
       "        vertical-align: middle;\n",
       "    }\n",
       "\n",
       "    .dataframe tbody tr th {\n",
       "        vertical-align: top;\n",
       "    }\n",
       "\n",
       "    .dataframe thead th {\n",
       "        text-align: right;\n",
       "    }\n",
       "</style>\n",
       "<table border=\"1\" class=\"dataframe\">\n",
       "  <thead>\n",
       "    <tr style=\"text-align: right;\">\n",
       "      <th></th>\n",
       "      <th>Rooms</th>\n",
       "      <th>Distance</th>\n",
       "      <th>Value</th>\n",
       "    </tr>\n",
       "  </thead>\n",
       "  <tbody>\n",
       "    <tr>\n",
       "      <th>0</th>\n",
       "      <td>6.575</td>\n",
       "      <td>4.0900</td>\n",
       "      <td>24.0</td>\n",
       "    </tr>\n",
       "    <tr>\n",
       "      <th>1</th>\n",
       "      <td>6.421</td>\n",
       "      <td>4.9671</td>\n",
       "      <td>21.6</td>\n",
       "    </tr>\n",
       "    <tr>\n",
       "      <th>2</th>\n",
       "      <td>7.185</td>\n",
       "      <td>4.9671</td>\n",
       "      <td>34.7</td>\n",
       "    </tr>\n",
       "    <tr>\n",
       "      <th>3</th>\n",
       "      <td>6.998</td>\n",
       "      <td>6.0622</td>\n",
       "      <td>33.4</td>\n",
       "    </tr>\n",
       "    <tr>\n",
       "      <th>4</th>\n",
       "      <td>7.147</td>\n",
       "      <td>6.0622</td>\n",
       "      <td>36.2</td>\n",
       "    </tr>\n",
       "  </tbody>\n",
       "</table>\n",
       "</div>"
      ],
      "text/plain": [
       "   Rooms  Distance  Value\n",
       "0  6.575    4.0900   24.0\n",
       "1  6.421    4.9671   21.6\n",
       "2  7.185    4.9671   34.7\n",
       "3  6.998    6.0622   33.4\n",
       "4  7.147    6.0622   36.2"
      ]
     },
     "execution_count": 2,
     "metadata": {},
     "output_type": "execute_result"
    }
   ],
   "source": [
    "boston_data = pd.read_csv('Boston House Prices.csv')\n",
    "boston_data.head()"
   ]
  },
  {
   "cell_type": "code",
   "execution_count": 3,
   "id": "510048ca",
   "metadata": {},
   "outputs": [
    {
     "data": {
      "text/plain": [
       "(506, 3)"
      ]
     },
     "execution_count": 3,
     "metadata": {},
     "output_type": "execute_result"
    }
   ],
   "source": [
    "boston_data.shape"
   ]
  },
  {
   "cell_type": "code",
   "execution_count": 4,
   "id": "e816e37c",
   "metadata": {},
   "outputs": [
    {
     "data": {
      "text/plain": [
       "Rooms       0\n",
       "Distance    0\n",
       "Value       0\n",
       "dtype: int64"
      ]
     },
     "execution_count": 4,
     "metadata": {},
     "output_type": "execute_result"
    }
   ],
   "source": [
    "boston_data.isnull().sum()"
   ]
  },
  {
   "cell_type": "code",
   "execution_count": 5,
   "id": "83a6872e",
   "metadata": {},
   "outputs": [
    {
     "name": "stdout",
     "output_type": "stream",
     "text": [
      "<class 'pandas.core.frame.DataFrame'>\n",
      "RangeIndex: 506 entries, 0 to 505\n",
      "Data columns (total 3 columns):\n",
      " #   Column    Non-Null Count  Dtype  \n",
      "---  ------    --------------  -----  \n",
      " 0   Rooms     506 non-null    float64\n",
      " 1   Distance  506 non-null    float64\n",
      " 2   Value     506 non-null    float64\n",
      "dtypes: float64(3)\n",
      "memory usage: 12.0 KB\n"
     ]
    }
   ],
   "source": [
    "boston_data.info()"
   ]
  },
  {
   "cell_type": "code",
   "execution_count": 6,
   "id": "5a519c01",
   "metadata": {},
   "outputs": [],
   "source": [
    "# Assumptions Check"
   ]
  },
  {
   "cell_type": "code",
   "execution_count": 15,
   "id": "fd1b8a69",
   "metadata": {},
   "outputs": [
    {
     "data": {
      "text/plain": [
       "<matplotlib.collections.PathCollection at 0x7fbdd57dd400>"
      ]
     },
     "execution_count": 15,
     "metadata": {},
     "output_type": "execute_result"
    },
    {
     "data": {
      "image/png": "[encoded data removed]",
      "text/plain": [
       "<Figure size 432x288 with 1 Axes>"
      ]
     },
     "metadata": {
      "needs_background": "light"
     },
     "output_type": "display_data"
    }
   ],
   "source": [
    "plt.scatter(x = 'Distance' , y = 'Value' , data = boston_data)"
   ]
  },
  {
   "cell_type": "code",
   "execution_count": 18,
   "id": "74a2daae",
   "metadata": {},
   "outputs": [
    {
     "data": {
      "text/plain": [
       "<matplotlib.collections.PathCollection at 0x7fbdd5be39d0>"
      ]
     },
     "execution_count": 18,
     "metadata": {},
     "output_type": "execute_result"
    },
    {
     "data": {
      "image/png": "[encoded data removed]",
      "text/plain": [
       "<Figure size 432x288 with 1 Axes>"
      ]
     },
     "metadata": {
      "needs_background": "light"
     },
     "output_type": "display_data"
    }
   ],
   "source": [
    "plt.scatter(x = 'Rooms', y = 'Value', data = boston_data)"
   ]
  },
  {
   "cell_type": "code",
   "execution_count": 20,
   "id": "698276dd",
   "metadata": {},
   "outputs": [
    {
     "data": {
      "text/html": [
       "<div>\n",
       "<style scoped>\n",
       "    .dataframe tbody tr th:only-of-type {\n",
       "        vertical-align: middle;\n",
       "    }\n",
       "\n",
       "    .dataframe tbody tr th {\n",
       "        vertical-align: top;\n",
       "    }\n",
       "\n",
       "    .dataframe thead th {\n",
       "        text-align: right;\n",
       "    }\n",
       "</style>\n",
       "<table border=\"1\" class=\"dataframe\">\n",
       "  <thead>\n",
       "    <tr style=\"text-align: right;\">\n",
       "      <th></th>\n",
       "      <th>Rooms</th>\n",
       "      <th>Distance</th>\n",
       "      <th>Value</th>\n",
       "    </tr>\n",
       "  </thead>\n",
       "  <tbody>\n",
       "    <tr>\n",
       "      <th>Rooms</th>\n",
       "      <td>1.000000</td>\n",
       "      <td>0.205246</td>\n",
       "      <td>0.695360</td>\n",
       "    </tr>\n",
       "    <tr>\n",
       "      <th>Distance</th>\n",
       "      <td>0.205246</td>\n",
       "      <td>1.000000</td>\n",
       "      <td>0.249929</td>\n",
       "    </tr>\n",
       "    <tr>\n",
       "      <th>Value</th>\n",
       "      <td>0.695360</td>\n",
       "      <td>0.249929</td>\n",
       "      <td>1.000000</td>\n",
       "    </tr>\n",
       "  </tbody>\n",
       "</table>\n",
       "</div>"
      ],
      "text/plain": [
       "             Rooms  Distance     Value\n",
       "Rooms     1.000000  0.205246  0.695360\n",
       "Distance  0.205246  1.000000  0.249929\n",
       "Value     0.695360  0.249929  1.000000"
      ]
     },
     "execution_count": 20,
     "metadata": {},
     "output_type": "execute_result"
    }
   ],
   "source": [
    "boston_data.corr()"
   ]
  },
  {
   "cell_type": "markdown",
   "id": "b16f4b63",
   "metadata": {},
   "source": [
    "# Linear regression can be build by 2 libraries:\n",
    "\n",
    "\n",
    "###            1. Statsmodels\n",
    "###            2. Sklearn"
   ]
  },
  {
   "cell_type": "markdown",
   "id": "3783bf55",
   "metadata": {},
   "source": [
    "## Linear  Regression with Statsmodels"
   ]
  },
  {
   "cell_type": "code",
   "execution_count": 21,
   "id": "01e8c679",
   "metadata": {},
   "outputs": [],
   "source": [
    "# Statsmodels is a module that helps us conduct statistical tests and estimate models. \n",
    "# It provides an extensive list of results for each estimator."
   ]
  },
  {
   "cell_type": "code",
   "execution_count": 25,
   "id": "abb2d256",
   "metadata": {},
   "outputs": [],
   "source": [
    "import statsmodels.formula.api as smf"
   ]
  },
  {
   "cell_type": "markdown",
   "id": "a1629e67",
   "metadata": {},
   "source": [
    "#### Dependent variable   -  Value\n",
    "#### Independent variable -  Rooms"
   ]
  },
  {
   "cell_type": "code",
   "execution_count": 27,
   "id": "f650e821",
   "metadata": {},
   "outputs": [],
   "source": [
    "#ols - ordinary least sqaures --> Inorder to find the best fit line.\n",
    "\n",
    "model = smf.ols('Value~Rooms',data = boston_data).fit() #Model Training"
   ]
  },
  {
   "cell_type": "code",
   "execution_count": 29,
   "id": "b489513e",
   "metadata": {},
   "outputs": [
    {
     "data": {
      "text/plain": [
       "0      25.175746\n",
       "1      23.774021\n",
       "2      30.728032\n",
       "3      29.025938\n",
       "4      30.382152\n",
       "         ...    \n",
       "501    25.339584\n",
       "502    21.034286\n",
       "503    28.825691\n",
       "504    27.169108\n",
       "505    20.215096\n",
       "Length: 506, dtype: float64"
      ]
     },
     "execution_count": 29,
     "metadata": {},
     "output_type": "execute_result"
    }
   ],
   "source": [
    "model.predict(boston_data)"
   ]
  },
  {
   "cell_type": "code",
   "execution_count": 30,
   "id": "5193050a",
   "metadata": {},
   "outputs": [
    {
     "data": {
      "text/html": [
       "<table class=\"simpletable\">\n",
       "<caption>OLS Regression Results</caption>\n",
       "<tr>\n",
       "  <th>Dep. Variable:</th>          <td>Value</td>      <th>  R-squared:         </th> <td>   0.484</td>\n",
       "</tr>\n",
       "<tr>\n",
       "  <th>Model:</th>                   <td>OLS</td>       <th>  Adj. R-squared:    </th> <td>   0.483</td>\n",
       "</tr>\n",
       "<tr>\n",
       "  <th>Method:</th>             <td>Least Squares</td>  <th>  F-statistic:       </th> <td>   471.8</td>\n",
       "</tr>\n",
       "<tr>\n",
       "  <th>Date:</th>             <td>Thu, 31 Mar 2022</td> <th>  Prob (F-statistic):</th> <td>2.49e-74</td>\n",
       "</tr>\n",
       "<tr>\n",
       "  <th>Time:</th>                 <td>18:11:25</td>     <th>  Log-Likelihood:    </th> <td> -1673.1</td>\n",
       "</tr>\n",
       "<tr>\n",
       "  <th>No. Observations:</th>      <td>   506</td>      <th>  AIC:               </th> <td>   3350.</td>\n",
       "</tr>\n",
       "<tr>\n",
       "  <th>Df Residuals:</th>          <td>   504</td>      <th>  BIC:               </th> <td>   3359.</td>\n",
       "</tr>\n",
       "<tr>\n",
       "  <th>Df Model:</th>              <td>     1</td>      <th>                     </th>     <td> </td>   \n",
       "</tr>\n",
       "<tr>\n",
       "  <th>Covariance Type:</th>      <td>nonrobust</td>    <th>                     </th>     <td> </td>   \n",
       "</tr>\n",
       "</table>\n",
       "<table class=\"simpletable\">\n",
       "<tr>\n",
       "      <td></td>         <th>coef</th>     <th>std err</th>      <th>t</th>      <th>P>|t|</th>  <th>[0.025</th>    <th>0.975]</th>  \n",
       "</tr>\n",
       "<tr>\n",
       "  <th>Intercept</th> <td>  -34.6706</td> <td>    2.650</td> <td>  -13.084</td> <td> 0.000</td> <td>  -39.877</td> <td>  -29.465</td>\n",
       "</tr>\n",
       "<tr>\n",
       "  <th>Rooms</th>     <td>    9.1021</td> <td>    0.419</td> <td>   21.722</td> <td> 0.000</td> <td>    8.279</td> <td>    9.925</td>\n",
       "</tr>\n",
       "</table>\n",
       "<table class=\"simpletable\">\n",
       "<tr>\n",
       "  <th>Omnibus:</th>       <td>102.585</td> <th>  Durbin-Watson:     </th> <td>   0.684</td> \n",
       "</tr>\n",
       "<tr>\n",
       "  <th>Prob(Omnibus):</th> <td> 0.000</td>  <th>  Jarque-Bera (JB):  </th> <td> 612.449</td> \n",
       "</tr>\n",
       "<tr>\n",
       "  <th>Skew:</th>          <td> 0.726</td>  <th>  Prob(JB):          </th> <td>1.02e-133</td>\n",
       "</tr>\n",
       "<tr>\n",
       "  <th>Kurtosis:</th>      <td> 8.190</td>  <th>  Cond. No.          </th> <td>    58.4</td> \n",
       "</tr>\n",
       "</table><br/><br/>Notes:<br/>[1] Standard Errors assume that the covariance matrix of the errors is correctly specified."
      ],
      "text/plain": [
       "<class 'statsmodels.iolib.summary.Summary'>\n",
       "\"\"\"\n",
       "                            OLS Regression Results                            \n",
       "==============================================================================\n",
       "Dep. Variable:                  Value   R-squared:                       0.484\n",
       "Model:                            OLS   Adj. R-squared:                  0.483\n",
       "Method:                 Least Squares   F-statistic:                     471.8\n",
       "Date:                Thu, 31 Mar 2022   Prob (F-statistic):           2.49e-74\n",
       "Time:                        18:11:25   Log-Likelihood:                -1673.1\n",
       "No. Observations:                 506   AIC:                             3350.\n",
       "Df Residuals:                     504   BIC:                             3359.\n",
       "Df Model:                           1                                         \n",
       "Covariance Type:            nonrobust                                         \n",
       "==============================================================================\n",
       "                 coef    std err          t      P>|t|      [0.025      0.975]\n",
       "------------------------------------------------------------------------------\n",
       "Intercept    -34.6706      2.650    -13.084      0.000     -39.877     -29.465\n",
       "Rooms          9.1021      0.419     21.722      0.000       8.279       9.925\n",
       "==============================================================================\n",
       "Omnibus:                      102.585   Durbin-Watson:                   0.684\n",
       "Prob(Omnibus):                  0.000   Jarque-Bera (JB):              612.449\n",
       "Skew:                           0.726   Prob(JB):                    1.02e-133\n",
       "Kurtosis:                       8.190   Cond. No.                         58.4\n",
       "==============================================================================\n",
       "\n",
       "Notes:\n",
       "[1] Standard Errors assume that the covariance matrix of the errors is correctly specified.\n",
       "\"\"\""
      ]
     },
     "execution_count": 30,
     "metadata": {},
     "output_type": "execute_result"
    }
   ],
   "source": [
    "model.summary()"
   ]
  },
  {
   "cell_type": "code",
   "execution_count": null,
   "id": "95de9e9c",
   "metadata": {},
   "outputs": [],
   "source": [
    "# OLS stands for Ordinary Least Squares and this is the most common method to estimate linear regression."
   ]
  },
  {
   "cell_type": "code",
   "execution_count": null,
   "id": "c538bffa",
   "metadata": {},
   "outputs": [],
   "source": []
  },
  {
   "cell_type": "code",
   "execution_count": null,
   "id": "3a0fd4a5",
   "metadata": {},
   "outputs": [],
   "source": []
  },
  {
   "cell_type": "code",
   "execution_count": 31,
   "id": "0a68b0bf",
   "metadata": {},
   "outputs": [
    {
     "data": {
      "text/plain": [
       "<AxesSubplot:xlabel='Rooms', ylabel='Value'>"
      ]
     },
     "execution_count": 31,
     "metadata": {},
     "output_type": "execute_result"
    },
    {
     "data": {
      "image/png": "[encoded data removed]",
      "text/plain": [
       "<Figure size 432x288 with 1 Axes>"
      ]
     },
     "metadata": {
      "needs_background": "light"
     },
     "output_type": "display_data"
    }
   ],
   "source": [
    "sns.regplot(x='Rooms',y='Value',data=boston_data)"
   ]
  },
  {
   "cell_type": "code",
   "execution_count": 32,
   "id": "03a5136a",
   "metadata": {},
   "outputs": [
    {
     "data": {
      "text/plain": [
       "Intercept   -34.670621\n",
       "Rooms         9.102109\n",
       "dtype: float64"
      ]
     },
     "execution_count": 32,
     "metadata": {},
     "output_type": "execute_result"
    }
   ],
   "source": [
    "model.params"
   ]
  },
  {
   "cell_type": "code",
   "execution_count": null,
   "id": "ec3d6b7c",
   "metadata": {},
   "outputs": [],
   "source": []
  },
  {
   "cell_type": "markdown",
   "id": "f120540a",
   "metadata": {},
   "source": [
    "# Multiple Linear Regression"
   ]
  },
  {
   "cell_type": "markdown",
   "id": "52e04528",
   "metadata": {},
   "source": [
    "#### Dependent variable   :    Value\n",
    "#### Independent variable :    Rooms  and  Distance"
   ]
  },
  {
   "cell_type": "code",
   "execution_count": 33,
   "id": "1aaae7a1",
   "metadata": {},
   "outputs": [],
   "source": [
    "model1 = smf.ols('Value~Rooms + Distance', data = boston_data).fit()"
   ]
  },
  {
   "cell_type": "code",
   "execution_count": 34,
   "id": "40f4cdce",
   "metadata": {},
   "outputs": [
    {
     "data": {
      "text/html": [
       "<table class=\"simpletable\">\n",
       "<caption>OLS Regression Results</caption>\n",
       "<tr>\n",
       "  <th>Dep. Variable:</th>          <td>Value</td>      <th>  R-squared:         </th> <td>   0.496</td>\n",
       "</tr>\n",
       "<tr>\n",
       "  <th>Model:</th>                   <td>OLS</td>       <th>  Adj. R-squared:    </th> <td>   0.494</td>\n",
       "</tr>\n",
       "<tr>\n",
       "  <th>Method:</th>             <td>Least Squares</td>  <th>  F-statistic:       </th> <td>   247.0</td>\n",
       "</tr>\n",
       "<tr>\n",
       "  <th>Date:</th>             <td>Thu, 31 Mar 2022</td> <th>  Prob (F-statistic):</th> <td>1.84e-75</td>\n",
       "</tr>\n",
       "<tr>\n",
       "  <th>Time:</th>                 <td>19:35:35</td>     <th>  Log-Likelihood:    </th> <td> -1667.1</td>\n",
       "</tr>\n",
       "<tr>\n",
       "  <th>No. Observations:</th>      <td>   506</td>      <th>  AIC:               </th> <td>   3340.</td>\n",
       "</tr>\n",
       "<tr>\n",
       "  <th>Df Residuals:</th>          <td>   503</td>      <th>  BIC:               </th> <td>   3353.</td>\n",
       "</tr>\n",
       "<tr>\n",
       "  <th>Df Model:</th>              <td>     2</td>      <th>                     </th>     <td> </td>   \n",
       "</tr>\n",
       "<tr>\n",
       "  <th>Covariance Type:</th>      <td>nonrobust</td>    <th>                     </th>     <td> </td>   \n",
       "</tr>\n",
       "</table>\n",
       "<table class=\"simpletable\">\n",
       "<tr>\n",
       "      <td></td>         <th>coef</th>     <th>std err</th>      <th>t</th>      <th>P>|t|</th>  <th>[0.025</th>    <th>0.975]</th>  \n",
       "</tr>\n",
       "<tr>\n",
       "  <th>Intercept</th> <td>  -34.6361</td> <td>    2.621</td> <td>  -13.212</td> <td> 0.000</td> <td>  -39.786</td> <td>  -29.486</td>\n",
       "</tr>\n",
       "<tr>\n",
       "  <th>Rooms</th>     <td>    8.8014</td> <td>    0.424</td> <td>   20.780</td> <td> 0.000</td> <td>    7.969</td> <td>    9.634</td>\n",
       "</tr>\n",
       "<tr>\n",
       "  <th>Distance</th>  <td>    0.4888</td> <td>    0.141</td> <td>    3.459</td> <td> 0.001</td> <td>    0.211</td> <td>    0.767</td>\n",
       "</tr>\n",
       "</table>\n",
       "<table class=\"simpletable\">\n",
       "<tr>\n",
       "  <th>Omnibus:</th>       <td>142.807</td> <th>  Durbin-Watson:     </th> <td>   0.684</td> \n",
       "</tr>\n",
       "<tr>\n",
       "  <th>Prob(Omnibus):</th> <td> 0.000</td>  <th>  Jarque-Bera (JB):  </th> <td> 844.520</td> \n",
       "</tr>\n",
       "<tr>\n",
       "  <th>Skew:</th>          <td> 1.090</td>  <th>  Prob(JB):          </th> <td>4.12e-184</td>\n",
       "</tr>\n",
       "<tr>\n",
       "  <th>Kurtosis:</th>      <td> 8.942</td>  <th>  Cond. No.          </th> <td>    68.7</td> \n",
       "</tr>\n",
       "</table><br/><br/>Notes:<br/>[1] Standard Errors assume that the covariance matrix of the errors is correctly specified."
      ],
      "text/plain": [
       "<class 'statsmodels.iolib.summary.Summary'>\n",
       "\"\"\"\n",
       "                            OLS Regression Results                            \n",
       "==============================================================================\n",
       "Dep. Variable:                  Value   R-squared:                       0.496\n",
       "Model:                            OLS   Adj. R-squared:                  0.494\n",
       "Method:                 Least Squares   F-statistic:                     247.0\n",
       "Date:                Thu, 31 Mar 2022   Prob (F-statistic):           1.84e-75\n",
       "Time:                        19:35:35   Log-Likelihood:                -1667.1\n",
       "No. Observations:                 506   AIC:                             3340.\n",
       "Df Residuals:                     503   BIC:                             3353.\n",
       "Df Model:                           2                                         \n",
       "Covariance Type:            nonrobust                                         \n",
       "==============================================================================\n",
       "                 coef    std err          t      P>|t|      [0.025      0.975]\n",
       "------------------------------------------------------------------------------\n",
       "Intercept    -34.6361      2.621    -13.212      0.000     -39.786     -29.486\n",
       "Rooms          8.8014      0.424     20.780      0.000       7.969       9.634\n",
       "Distance       0.4888      0.141      3.459      0.001       0.211       0.767\n",
       "==============================================================================\n",
       "Omnibus:                      142.807   Durbin-Watson:                   0.684\n",
       "Prob(Omnibus):                  0.000   Jarque-Bera (JB):              844.520\n",
       "Skew:                           1.090   Prob(JB):                    4.12e-184\n",
       "Kurtosis:                       8.942   Cond. No.                         68.7\n",
       "==============================================================================\n",
       "\n",
       "Notes:\n",
       "[1] Standard Errors assume that the covariance matrix of the errors is correctly specified.\n",
       "\"\"\""
      ]
     },
     "execution_count": 34,
     "metadata": {},
     "output_type": "execute_result"
    }
   ],
   "source": [
    "model1.summary()"
   ]
  },
  {
   "cell_type": "code",
   "execution_count": 35,
   "id": "e40c1abb",
   "metadata": {},
   "outputs": [],
   "source": [
    "# Linear Regression with sklearn"
   ]
  },
  {
   "cell_type": "code",
   "execution_count": 36,
   "id": "c558dfd8",
   "metadata": {},
   "outputs": [],
   "source": [
    "from sklearn import linear_model"
   ]
  },
  {
   "cell_type": "code",
   "execution_count": 37,
   "id": "d95edc16",
   "metadata": {},
   "outputs": [],
   "source": [
    "y = boston_data['Value'] # dependent variable\n",
    "X = boston_data[['Rooms', 'Distance']] # independent variable"
   ]
  },
  {
   "cell_type": "code",
   "execution_count": 38,
   "id": "63b8822a",
   "metadata": {},
   "outputs": [
    {
     "data": {
      "text/plain": [
       "LinearRegression()"
      ]
     },
     "execution_count": 38,
     "metadata": {},
     "output_type": "execute_result"
    }
   ],
   "source": [
    "lm = linear_model.LinearRegression()\n",
    "lm.fit(X, y) # fitting the model"
   ]
  },
  {
   "cell_type": "code",
   "execution_count": 39,
   "id": "d54f58ef",
   "metadata": {},
   "outputs": [
    {
     "data": {
      "text/plain": [
       "array([25.23262311, 24.30597474, 31.03025338, 29.9197274 , 31.23113776,\n",
       "       24.92052548, 20.99628003, 22.59515685, 17.89792552, 21.43016488,\n",
       "       24.59312806, 21.29554669, 19.86012857, 20.02480328, 21.19854962,\n",
       "       18.91052046, 19.79946305, 20.16587486, 15.24036623, 17.62554884,\n",
       "       16.24441157, 19.82577837, 21.36632302, 18.52848931, 19.65425152,\n",
       "       16.82067934, 18.81534563, 20.76312523, 24.70679323, 26.17680132,\n",
       "       17.71571146, 20.84706509, 19.68285587, 17.39216584, 20.85532906,\n",
       "       19.22540394, 18.42427779, 18.77543693, 19.75391977, 26.04958067,\n",
       "       29.82538634, 27.7461615 , 22.45651299, 22.82617229, 21.57637181,\n",
       "       17.86689491, 18.78224174, 21.21771802, 15.7523132 , 17.64542212,\n",
       "       21.17812468, 22.51593928, 26.00129836, 21.48617409, 20.7648873 ,\n",
       "       33.41670435, 26.03470634, 29.42393915, 23.26887906, 20.91861579,\n",
       "       19.42498135, 21.20638654, 25.71803969, 28.7805479 , 32.39778062,\n",
       "       23.95685233, 19.52974218, 20.27518634, 17.77558538, 20.33679623,\n",
       "       24.4272984 , 20.4138546 , 21.32920143, 22.91345556, 22.65354578,\n",
       "       22.890714  , 22.60892674, 21.40425339, 22.66548379, 19.26453233,\n",
       "       27.21117149, 26.26061901, 23.47057146, 22.28238086, 23.93257269,\n",
       "       25.8866734 , 20.46867221, 21.0694004 , 28.70813555, 29.33831749,\n",
       "       23.35427586, 23.24856115, 23.85471467, 21.82158854, 22.1311598 ,\n",
       "       25.38192659, 21.31567433, 38.09116527, 35.89961373, 32.34384335,\n",
       "       25.92897066, 26.44252374, 23.06406971, 20.70529134, 20.82575888,\n",
       "       17.89096542, 17.80983337, 20.32773223, 23.53360961, 21.43211252,\n",
       "       21.24661957, 25.77432221, 18.55715411, 20.22773676, 21.51106612,\n",
       "       18.74280198, 21.05607467, 19.70031291, 18.25696233, 17.1536719 ,\n",
       "       18.1319106 , 19.28182222, 18.84934375, 17.85553459, 18.08822678,\n",
       "       19.02342728, 15.62527907, 16.3445952 , 22.85186727, 15.94537952,\n",
       "       23.23909304, 22.15185608, 22.58429208, 17.81317649, 17.18051639,\n",
       "       22.15270637, 18.6234551 , 23.07253379, 17.72951157, 20.31717554,\n",
       "       20.49184141, 10.24188438, 13.56404016, 14.18022607,  9.17521327,\n",
       "       20.01032929, 15.63968329,  9.43381443, 11.75581429, 15.37128804,\n",
       "       20.03714997, 13.70483068, 10.26376982, 16.4047089 , 20.16299455,\n",
       "       20.36352051, 12.61382958, 27.38986751, 19.61236751, 23.52439846,\n",
       "       21.25191896, 32.24119459, 35.03015812, 40.13266443, 18.07140582,\n",
       "       20.17760014, 36.15047943, 18.27574481, 22.0066531 , 22.81660817,\n",
       "       18.25814198, 18.28396388, 15.67451622, 23.127448  , 18.25224159,\n",
       "       24.50921193, 20.0862567 , 22.56662054, 27.16677511, 28.1807569 ,\n",
       "       35.04684651, 20.70980371, 29.65823582, 24.51936744, 16.14769225,\n",
       "       21.12231335, 35.85173009, 26.90717641, 25.29843038, 30.83451843,\n",
       "       29.71020419, 27.84430488, 31.70812468, 28.25399262, 26.5289159 ,\n",
       "       37.43628005, 33.07283177, 31.48857764, 32.95841342, 30.49515072,\n",
       "       31.90337661, 22.66332984, 35.40777416, 36.98336372, 38.57641927,\n",
       "       19.14176992, 23.17056754, 18.39140092, 20.80803787, 14.29298272,\n",
       "       19.71567898, 14.71840923, 18.25931648, 23.40165325, 14.75093477,\n",
       "       21.70298077, 18.7080082 , 25.49532692, 19.15358169, 23.09949169,\n",
       "       27.9415013 , 21.10586268, 27.50842309, 25.2112546 , 39.5313432 ,\n",
       "       43.57119123, 37.69929117, 29.98045299, 34.66151384, 24.68071282,\n",
       "       19.80000137, 32.3948217 , 40.61771646, 39.73441915, 26.34747175,\n",
       "       20.71456818, 25.75385539, 32.15248179, 25.43182344, 26.53199992,\n",
       "       29.16468042, 22.10594813, 24.76262011, 25.07066952, 18.47898741,\n",
       "       18.58460435, 23.06089266, 24.09945926, 25.80940519, 28.31780756,\n",
       "       26.07457433, 25.64330515, 30.94939918, 42.40883738, 23.63030344,\n",
       "       21.58837589, 34.06706681, 42.8518546 , 30.8308752 , 26.56613731,\n",
       "       29.79301622, 32.59660487, 40.39693624, 30.86811263, 29.73045002,\n",
       "       15.27089721, 28.13971743, 39.57305938, 32.51446918, 19.38337199,\n",
       "       19.07012766, 22.4498698 , 24.8226445 , 35.19016533, 26.83721976,\n",
       "       27.77488986, 31.6640253 , 27.81955963, 24.43868089, 27.3237884 ,\n",
       "       36.48598755, 29.25605137, 35.19857294, 37.97440938, 31.32051978,\n",
       "       25.73162327, 24.63998764, 23.58891838, 24.52186803, 26.72222099,\n",
       "       28.25172769, 30.77773288, 26.21860156, 21.98018694, 20.94162034,\n",
       "       27.05351083, 25.91812871, 19.41364706, 25.03551645, 31.16129908,\n",
       "       29.66505907, 26.04986328, 25.21372916, 29.50001672, 31.01711463,\n",
       "       25.24151005, 32.18546498, 27.20067768, 25.38307233, 19.44263385,\n",
       "       10.36497585, 20.53689983, 19.76025002, 22.10861135, 24.92380039,\n",
       "       17.50451178, 19.37020914, 18.22460366, 23.26141757, 21.12330329,\n",
       "       24.14139013, 23.70131954, 20.84118151, 17.91031137, 24.13290953,\n",
       "       24.61338408, 23.56601608, 21.55049277, 19.55978401, 23.65244051,\n",
       "       22.31112486, 18.8311022 , 21.69156104, 24.11084632, 24.05803785,\n",
       "       21.42397818, 19.57665143, 19.99315709, 21.04414102, 20.39283655,\n",
       "       20.24321255, 32.53543999, 25.98874808, 27.10033213, 29.02545606,\n",
       "       22.21307719, 21.19211342, 26.88641821, 27.8402695 , 30.73495172,\n",
       "       26.78311781, 28.50415273, 22.38717151, 30.50787039, 20.38114896,\n",
       "       22.78393439, 21.07575447, 22.87364182, 20.62118801, 20.38474878,\n",
       "       22.90640109, 21.50372698, 13.58546183, 17.36965247, 43.57145549,\n",
       "       -2.50561219,  9.90196602,  0.10225832,  9.75835729, 24.84700588,\n",
       "       27.70244669, 20.64503858, 17.62444762,  9.11768221,  2.34001276,\n",
       "       30.37214586, 24.54198947, 25.8245981 , 22.19455025, 20.81272859,\n",
       "       27.3846414 , 23.71184894, 14.86114194, 14.69719681,  4.51221416,\n",
       "       12.50614694,  7.02535622, 10.11327659,  9.0918643 , 13.64833874,\n",
       "       16.58818231, 19.68101866, 10.5531217 , 20.74671878, 18.04903824,\n",
       "       23.16149169, 22.55669381, 16.7441488 , 14.08623731, 17.60328019,\n",
       "       18.834685  , 21.96080153, 22.52941393, 13.27511298, 14.83033379,\n",
       "       16.07917795,  2.36010443, 15.3505355 , 15.51260803, 26.3876312 ,\n",
       "       16.7244207 , 24.70166451,  6.85650551, 11.51220367,  5.94813852,\n",
       "       22.88912394, 25.94458476, 12.85201613, 18.67515846, 26.30177842,\n",
       "       22.6985216 , 19.14162473, 16.0281651 , 20.06732019, 15.35254561,\n",
       "       18.19057913, 17.7143145 , 20.86098192, 20.81730851, 22.47910898,\n",
       "       22.2387715 , 26.52481036, 22.98868314, 23.14191179, 21.08943367,\n",
       "       24.74716532, 23.20883973, 20.44598926, 18.49032667, 15.77782974,\n",
       "       17.48285298, 22.75531511, 21.07997353, 23.40824348, 17.81407596,\n",
       "       23.18405083, 22.1865964 , 21.45606425, 20.90626183, 22.91074358,\n",
       "       25.90056672, 25.08868162, 21.94413121, 31.63178628, 25.80006344,\n",
       "       23.98389927, 19.22270945, 18.96773829, 22.18216012, 20.21378105,\n",
       "       25.61199456, 22.73667472, 22.29917578, 24.05710312, 21.46056962,\n",
       "       17.55033458, 19.1536816 , 19.44064697, 18.9428834 , 17.02677721,\n",
       "       21.12512972, 21.70303237, 23.43458755, 28.03600885, 14.31701599,\n",
       "       20.67664938, 23.55924665, 13.07356228, 20.86172773, 21.14178537,\n",
       "       21.97627762, 26.40217634, 29.17798557, 18.08113274, 18.85751062,\n",
       "       22.86979799, 20.90918977, 18.87728391, 14.25699424, 13.87291819,\n",
       "       11.08051561, 18.93601475, 19.05421832, 16.75789769, 18.68540688,\n",
       "       16.63604641, 14.1716511 , 17.77342212, 19.51733263, 15.5521999 ,\n",
       "       19.63130033, 24.60331799, 20.34683124, 27.82217794, 26.32855206,\n",
       "       19.66102874])"
      ]
     },
     "execution_count": 39,
     "metadata": {},
     "output_type": "execute_result"
    }
   ],
   "source": [
    "lm.predict(X)"
   ]
  },
  {
   "cell_type": "code",
   "execution_count": 40,
   "id": "43afa826",
   "metadata": {},
   "outputs": [
    {
     "data": {
      "text/plain": [
       "array([8.80141183, 0.48884854])"
      ]
     },
     "execution_count": 40,
     "metadata": {},
     "output_type": "execute_result"
    }
   ],
   "source": [
    "lm.coef_"
   ]
  },
  {
   "cell_type": "code",
   "execution_count": 41,
   "id": "ac6b14fa",
   "metadata": {},
   "outputs": [
    {
     "data": {
      "text/plain": [
       "-34.636050175473315"
      ]
     },
     "execution_count": 41,
     "metadata": {},
     "output_type": "execute_result"
    }
   ],
   "source": [
    "lm.intercept_"
   ]
  },
  {
   "cell_type": "code",
   "execution_count": null,
   "id": "f2d35605",
   "metadata": {},
   "outputs": [],
   "source": []
  }
 ],
 "metadata": {
  "kernelspec": {
   "display_name": "Python 3",
   "language": "python",
   "name": "python3"
  },
  "language_info": {
   "codemirror_mode": {
    "name": "ipython",
    "version": 3
   },
   "file_extension": ".py",
   "mimetype": "text/x-python",
   "name": "python",
   "nbconvert_exporter": "python",
   "pygments_lexer": "ipython3",
   "version": "3.8.8"
  }
 },
 "nbformat": 4,
 "nbformat_minor": 5
}
